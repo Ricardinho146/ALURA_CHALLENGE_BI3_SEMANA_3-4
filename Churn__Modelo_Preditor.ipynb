{
  "cells": [
    {
      "cell_type": "markdown",
      "metadata": {
        "id": "view-in-github",
        "colab_type": "text"
      },
      "source": [
        "<a href=\"https://colab.research.google.com/github/Ricardinho146/ALURA_CHALLENGE_BI3_SEMANA_3-4/blob/main/Churn__Modelo_Preditor.ipynb\" target=\"_parent\"><img src=\"https://colab.research.google.com/assets/colab-badge.svg\" alt=\"Open In Colab\"/></a>"
      ]
    },
    {
      "cell_type": "markdown",
      "metadata": {
        "id": "KO49aH1v9u4M"
      },
      "source": [
        "Importando as Bibliotecas"
      ]
    },
    {
      "cell_type": "code",
      "execution_count": 26,
      "metadata": {
        "colab": {
          "base_uri": "https://localhost:8080/"
        },
        "id": "-tgCoxLNVIw2",
        "outputId": "c05614aa-306b-41ff-cb79-e7a537aa7e60"
      },
      "outputs": [
        {
          "output_type": "stream",
          "name": "stdout",
          "text": [
            "Requirement already satisfied: category_encoders in /usr/local/lib/python3.10/dist-packages (2.6.3)\n",
            "Requirement already satisfied: numpy>=1.14.0 in /usr/local/lib/python3.10/dist-packages (from category_encoders) (1.23.5)\n",
            "Requirement already satisfied: scikit-learn>=0.20.0 in /usr/local/lib/python3.10/dist-packages (from category_encoders) (1.2.2)\n",
            "Requirement already satisfied: scipy>=1.0.0 in /usr/local/lib/python3.10/dist-packages (from category_encoders) (1.11.4)\n",
            "Requirement already satisfied: statsmodels>=0.9.0 in /usr/local/lib/python3.10/dist-packages (from category_encoders) (0.14.1)\n",
            "Requirement already satisfied: pandas>=1.0.5 in /usr/local/lib/python3.10/dist-packages (from category_encoders) (1.5.3)\n",
            "Requirement already satisfied: patsy>=0.5.1 in /usr/local/lib/python3.10/dist-packages (from category_encoders) (0.5.4)\n",
            "Requirement already satisfied: python-dateutil>=2.8.1 in /usr/local/lib/python3.10/dist-packages (from pandas>=1.0.5->category_encoders) (2.8.2)\n",
            "Requirement already satisfied: pytz>=2020.1 in /usr/local/lib/python3.10/dist-packages (from pandas>=1.0.5->category_encoders) (2023.3.post1)\n",
            "Requirement already satisfied: six in /usr/local/lib/python3.10/dist-packages (from patsy>=0.5.1->category_encoders) (1.16.0)\n",
            "Requirement already satisfied: joblib>=1.1.1 in /usr/local/lib/python3.10/dist-packages (from scikit-learn>=0.20.0->category_encoders) (1.3.2)\n",
            "Requirement already satisfied: threadpoolctl>=2.0.0 in /usr/local/lib/python3.10/dist-packages (from scikit-learn>=0.20.0->category_encoders) (3.2.0)\n",
            "Requirement already satisfied: packaging>=21.3 in /usr/local/lib/python3.10/dist-packages (from statsmodels>=0.9.0->category_encoders) (23.2)\n"
          ]
        }
      ],
      "source": [
        "! pip install category_encoders\n"
      ]
    },
    {
      "cell_type": "code",
      "execution_count": 27,
      "metadata": {
        "colab": {
          "base_uri": "https://localhost:8080/"
        },
        "id": "HhsA_-K3Vi5a",
        "outputId": "eb9a692f-4c8c-483f-8640-edd89a884909"
      },
      "outputs": [
        {
          "output_type": "stream",
          "name": "stdout",
          "text": [
            "Requirement already satisfied: Imbalanced-learn in /usr/local/lib/python3.10/dist-packages (0.11.0)\n",
            "Requirement already satisfied: numpy>=1.17.3 in /usr/local/lib/python3.10/dist-packages (from Imbalanced-learn) (1.23.5)\n",
            "Requirement already satisfied: scipy>=1.5.0 in /usr/local/lib/python3.10/dist-packages (from Imbalanced-learn) (1.11.4)\n",
            "Requirement already satisfied: scikit-learn>=1.0.2 in /usr/local/lib/python3.10/dist-packages (from Imbalanced-learn) (1.2.2)\n",
            "Requirement already satisfied: joblib>=1.1.1 in /usr/local/lib/python3.10/dist-packages (from Imbalanced-learn) (1.3.2)\n",
            "Requirement already satisfied: threadpoolctl>=2.0.0 in /usr/local/lib/python3.10/dist-packages (from Imbalanced-learn) (3.2.0)\n"
          ]
        }
      ],
      "source": [
        "! pip install -U Imbalanced-learn"
      ]
    },
    {
      "cell_type": "code",
      "execution_count": 28,
      "metadata": {
        "colab": {
          "base_uri": "https://localhost:8080/"
        },
        "id": "W-VbzTdM5Wui",
        "outputId": "ad7eb3d7-732f-4d9e-c774-c1317e6b65ba"
      },
      "outputs": [
        {
          "output_type": "stream",
          "name": "stdout",
          "text": [
            "Requirement already satisfied: dython in /usr/local/lib/python3.10/dist-packages (0.7.4)\n",
            "Requirement already satisfied: numpy>=1.23.0 in /usr/local/lib/python3.10/dist-packages (from dython) (1.23.5)\n",
            "Requirement already satisfied: pandas>=1.4.2 in /usr/local/lib/python3.10/dist-packages (from dython) (1.5.3)\n",
            "Requirement already satisfied: seaborn>=0.12.0 in /usr/local/lib/python3.10/dist-packages (from dython) (0.12.2)\n",
            "Requirement already satisfied: scipy>=1.7.1 in /usr/local/lib/python3.10/dist-packages (from dython) (1.11.4)\n",
            "Requirement already satisfied: matplotlib>=3.5.3 in /usr/local/lib/python3.10/dist-packages (from dython) (3.7.1)\n",
            "Requirement already satisfied: scikit-learn>=0.24.2 in /usr/local/lib/python3.10/dist-packages (from dython) (1.2.2)\n",
            "Requirement already satisfied: scikit-plot>=0.3.7 in /usr/local/lib/python3.10/dist-packages (from dython) (0.3.7)\n",
            "Requirement already satisfied: psutil>=5.9.1 in /usr/local/lib/python3.10/dist-packages (from dython) (5.9.5)\n",
            "Requirement already satisfied: contourpy>=1.0.1 in /usr/local/lib/python3.10/dist-packages (from matplotlib>=3.5.3->dython) (1.2.0)\n",
            "Requirement already satisfied: cycler>=0.10 in /usr/local/lib/python3.10/dist-packages (from matplotlib>=3.5.3->dython) (0.12.1)\n",
            "Requirement already satisfied: fonttools>=4.22.0 in /usr/local/lib/python3.10/dist-packages (from matplotlib>=3.5.3->dython) (4.47.0)\n",
            "Requirement already satisfied: kiwisolver>=1.0.1 in /usr/local/lib/python3.10/dist-packages (from matplotlib>=3.5.3->dython) (1.4.5)\n",
            "Requirement already satisfied: packaging>=20.0 in /usr/local/lib/python3.10/dist-packages (from matplotlib>=3.5.3->dython) (23.2)\n",
            "Requirement already satisfied: pillow>=6.2.0 in /usr/local/lib/python3.10/dist-packages (from matplotlib>=3.5.3->dython) (9.4.0)\n",
            "Requirement already satisfied: pyparsing>=2.3.1 in /usr/local/lib/python3.10/dist-packages (from matplotlib>=3.5.3->dython) (3.1.1)\n",
            "Requirement already satisfied: python-dateutil>=2.7 in /usr/local/lib/python3.10/dist-packages (from matplotlib>=3.5.3->dython) (2.8.2)\n",
            "Requirement already satisfied: pytz>=2020.1 in /usr/local/lib/python3.10/dist-packages (from pandas>=1.4.2->dython) (2023.3.post1)\n",
            "Requirement already satisfied: joblib>=1.1.1 in /usr/local/lib/python3.10/dist-packages (from scikit-learn>=0.24.2->dython) (1.3.2)\n",
            "Requirement already satisfied: threadpoolctl>=2.0.0 in /usr/local/lib/python3.10/dist-packages (from scikit-learn>=0.24.2->dython) (3.2.0)\n",
            "Requirement already satisfied: six>=1.5 in /usr/local/lib/python3.10/dist-packages (from python-dateutil>=2.7->matplotlib>=3.5.3->dython) (1.16.0)\n"
          ]
        }
      ],
      "source": [
        "! pip install dython"
      ]
    },
    {
      "cell_type": "code",
      "execution_count": 29,
      "metadata": {
        "id": "ZBdXon5ayoIm"
      },
      "outputs": [],
      "source": [
        "! pip install streamlit --quiet"
      ]
    },
    {
      "cell_type": "markdown",
      "metadata": {
        "id": "dSC7zCe5z4VM"
      },
      "source": [
        "Criando o Site com o streamlit"
      ]
    },
    {
      "cell_type": "code",
      "execution_count": 30,
      "metadata": {
        "colab": {
          "base_uri": "https://localhost:8080/"
        },
        "id": "9GWWH2woz3Xf",
        "outputId": "36fe7d30-c8c0-41da-9894-6b686858b6d7"
      },
      "outputs": [
        {
          "output_type": "stream",
          "name": "stdout",
          "text": [
            "Overwriting app.py\n"
          ]
        }
      ],
      "source": [
        "\n",
        "%%writefile app.py\n",
        "\n",
        "import pandas as pd\n",
        "import numpy as np\n",
        "from dython.nominal import associations\n",
        "from dython.nominal import identify_nominal_columns\n",
        "import category_encoders as ce\n",
        "from sklearn.preprocessing import LabelEncoder\n",
        "from imblearn.over_sampling import RandomOverSampler\n",
        "from sklearn.ensemble import RandomForestClassifier\n",
        "from sklearn.model_selection import train_test_split\n",
        "import streamlit as st\n",
        "\n",
        "df = pd.read_json('https://challenge-data-science-3ed.s3.amazonaws.com/Telco-Customer-Churn.json')\n",
        "# Expandindo os dados da coluna \"customer\" e inserindo colunas no DataFrame\n",
        "expanded_data1 = pd.json_normalize(df['customer'])\n",
        "\n",
        "# Expandindo os dados da coluna \"phone\" e inserindo colunas no DataFrame\n",
        "expanded_data2 = pd.json_normalize(df['phone'])\n",
        "\n",
        "# Expandindo os dados da coluna \"internet\" e inserindo colunas no DataFrame\n",
        "expanded_data3 = pd.json_normalize(df['internet'])\n",
        "\n",
        "# Expandindo os dados da coluna \"internet\" e inserindo colunas no DataFrame\n",
        "expanded_data4 = pd.json_normalize(df['account'])\n",
        "df = pd.concat([df, expanded_data1, expanded_data2, expanded_data3, expanded_data4], axis=1)\n",
        "\n",
        "# Excluir as colunas originais 'customer','phone','internet'e'account'\n",
        "df.drop(columns=['customer','phone','internet','account'], inplace=True)\n",
        "\n",
        "# Remover espaços em branco dos valores e substituir valores vazios por NaN condidos na coluna \"Churn\"\n",
        "df['Churn'] = df['Churn'].str.replace(' ', '').replace('', pd.NA)\n",
        "\n",
        "# Remover espaços em branco dos valores e substituir valores vazios por NaN\n",
        "df['Charges.Total'] = df['Charges.Total'].str.replace(' ', '').replace('', pd.NA)\n",
        "\n",
        "# Converter para float\n",
        "df['Charges.Total'] = pd.to_numeric(df['Charges.Total'], errors='coerce')\n",
        "\n",
        "# Removendo dados nulos\n",
        "df = df.dropna(axis=0)\n",
        "\n",
        "lb = LabelEncoder()\n",
        "df['Churn']  = lb.fit_transform(df['Churn'])\n",
        "\n",
        "# Removendo a coluna \"customerID\" do dataframe pois não faz sentido para análise\n",
        "\n",
        "df_tst = df.drop(\"customerID\", axis =1)\n",
        "\n",
        "# Gerando uma lista com as colunas de dados categóricos\n",
        "dados_categóricos =identify_nominal_columns(df_tst)\n",
        "\n",
        "\n",
        "le = LabelEncoder()\n",
        "\n",
        "for coluna in dados_categóricos:\n",
        "    df_tst[coluna] = le.fit_transform(df_tst[coluna])\n",
        "\n",
        "df_tst.head()\n",
        "\n",
        "x_1 = df_tst.drop(\"Churn\", axis =1)\n",
        "y_1 = df_tst.Churn\n",
        "\n",
        "ros = RandomOverSampler(sampling_strategy = 1)\n",
        "\n",
        "x_ros_1, y_ros_1 = ros.fit_resample(x_1,y_1)\n",
        "\n",
        "x_train_1, x_test_1, y_train_1, y_test_1 = train_test_split(x_ros_1, y_ros_1, test_size = 0.2, random_state = 42 )\n",
        "\n",
        "\n",
        "modelo_tst = RandomForestClassifier( random_state = 42)\n",
        "\n",
        "modelo_tst.fit(x_train_1, y_train_1)\n",
        "\n",
        "y_pred_1 = modelo_tst.predict(x_test_1)\n",
        "\n",
        "import streamlit as st\n",
        "\n",
        "\n",
        "st.title('# My First Data App')\n",
        "st.write('## Churn Predict Model with RandomForestClassifier')\n",
        "\n",
        "gender = st.selectbox(\"Select Gender: \", ['Female','Male'])\n",
        "SeniorCitizen = st.selectbox(\"Select SeniorCitizen: \", ['0','1'])\n",
        "partner = st.selectbox(\"Select Partner: \", ['Yes','No'])\n",
        "dependents = st.selectbox(\"Select Dependents: \", ['Yes','No'])\n",
        "Tenure = st.slider(\"Select Tenure: \", 1, 72)\n",
        "phoneService = st.selectbox(\"Select PhoneService: \", ['Yes','No'])\n",
        "multipleLines = st.selectbox(\"Select MultipleLines: \", ['No','Yes','No phone service'])\n",
        "internetservice = st.selectbox(\"Select InternetService: \", ['DSL','Fiber optic','No'])\n",
        "onlinesecurity = st.selectbox(\"Select OnlineSecurity: \", ['No','Yes','No internet service'])\n",
        "onlinebackup = st.selectbox(\"Select OnlineBackup: \", ['Yes','No','No internet service'])\n",
        "deviceProtection = st.selectbox(\"Select DeviceProtection: \", ['No','Yes','No internet service'])\n",
        "techSupport = st.selectbox(\"Select TechSupport: \", ['Yes','No','No internet service'])\n",
        "streamingTV = st.selectbox(\"Select StreamingTV: \", ['Yes','No','No internet service'])\n",
        "StreamingMovies = st.selectbox(\"Select StreamingMovies: \", ['No', 'Yes', 'No internet service'])\n",
        "contract = st.selectbox(\"Select Contract: \", ['One year','Month-to-month','Two year'])\n",
        "paperlessbilling = st.selectbox(\"Select PaperlessBilling: \", ['Yes','No'])\n",
        "paymentMethod = st.selectbox(\"Select PaymentMethod: \", ['Mailed check','Electronic check','Credit card (automatic)','Bank transfer (automatic)'])\n",
        "ChargesMonthly= st.slider(\"Select ChargesMonthly \", 18.25, 118.75)\n",
        "ChargesTotal= st.slider(\"Select ChargesTotal\",18.8, 8684.8)\n",
        "\n",
        "\n",
        "def predict():\n",
        "    input_data = {\n",
        "        'gender': gender,\n",
        "        'SeniorCitizen': SeniorCitizen,\n",
        "        'Partner': partner,\n",
        "        'Dependents': dependents,\n",
        "        'tenure': Tenure,\n",
        "        'PhoneService': phoneService,\n",
        "        'MultipleLines': multipleLines,\n",
        "        'InternetService': internetservice,\n",
        "        'OnlineSecurity': onlinesecurity,\n",
        "        'OnlineBackup': onlinebackup,\n",
        "        'DeviceProtection': deviceProtection,\n",
        "        'TechSupport': techSupport,\n",
        "        'StreamingTV': streamingTV,\n",
        "        'StreamingMovies': StreamingMovies,\n",
        "        'Contract': contract,\n",
        "        'PaperlessBilling': paperlessbilling,\n",
        "        'PaymentMethod': paymentMethod,\n",
        "        'Charges.Monthly': ChargesMonthly,\n",
        "        'Charges.Total': ChargesTotal\n",
        "    }\n",
        "\n",
        "    # Criar um DataFrame a partir dos dados de entrada do usuário\n",
        "    input_df = pd.DataFrame([input_data])\n",
        "\n",
        "    # Mapear 'Yes' para 1 e 'No' para 0 nos dados booleanos\n",
        "    boolean_cols = ['Partner', 'Dependents', 'PhoneService', 'PaperlessBilling']\n",
        "    input_df[boolean_cols] = input_df[boolean_cols].replace({'Yes': 1, 'No': 0})\n",
        "\n",
        "    # Mapear 'Female' para 1 e 'Male' para 0 na coluna 'gender'\n",
        "    input_df['gender'] = input_df['gender'].map({'Female': 1, 'Male': 0})\n",
        "\n",
        "    # Criar um LabelEncoder separado para os outros dados categóricos\n",
        "    le_input = LabelEncoder()\n",
        "\n",
        "    # Converter outros dados categóricos usando LabelEncoder\n",
        "    for w in dados_categóricos:\n",
        "        if w not in boolean_cols + ['gender']:\n",
        "            input_df[w] = le_input.fit_transform(input_df[w])\n",
        "\n",
        "    # Mostrar os dados de entrada\n",
        "    st.write('Input Data:')\n",
        "    st.write(input_df)\n",
        "\n",
        "    # Fazer a previsão\n",
        "    prediction = modelo_tst.predict(input_df)\n",
        "\n",
        "    # Calcular a acurácia usando os dados de teste\n",
        "    accuracy = modelo_tst.score(x_test_1, y_test_1)\n",
        "\n",
        "    st.write(f'Model Accuracy: {accuracy:.2%}')\n",
        "\n",
        "    if prediction[0] == 1:\n",
        "        st.success('Non-Quitting Customer :thumbsup:')\n",
        "    else:\n",
        "        st.error('Customer Abandonment :thumbsdown:')\n",
        "\n",
        "trigger = st.button('Predict', on_click=predict)\n",
        "\n",
        "\n",
        "\n",
        "\n",
        "\n"
      ]
    },
    {
      "cell_type": "code",
      "execution_count": 31,
      "metadata": {
        "colab": {
          "base_uri": "https://localhost:8080/"
        },
        "id": "EMKqE8T20xkq",
        "outputId": "6d8cede2-af8f-4a21-9f34-bbbf8fd143c3"
      },
      "outputs": [
        {
          "output_type": "stream",
          "name": "stdout",
          "text": [
            "\u001b[?25l[..................] / rollbackFailedOptional: verb npm-session fe4b6cc42d38ef7\u001b[0m\u001b[K\r[..................] / rollbackFailedOptional: verb npm-session fe4b6cc42d38ef7\u001b[0m\u001b[K\r\n",
            "Collecting usage statistics. To deactivate, set browser.gatherUsageStats to False.\n",
            "\u001b[0m\n",
            "\u001b[0m\n",
            "\u001b[34m\u001b[1m  You can now view your Streamlit app in your browser.\u001b[0m\n",
            "\u001b[0m\n",
            "\u001b[34m  Network URL: \u001b[0m\u001b[1mhttp://172.28.0.12:8501\u001b[0m\n",
            "\u001b[34m  External URL: \u001b[0m\u001b[1mhttp://35.236.160.103:8501\u001b[0m\n",
            "\u001b[0m\n",
            "\u001b[K\u001b[?25hnpx: installed 22 in 3.938s\n",
            "your url is: https://sweet-pets-glow.loca.lt\n",
            "\u001b[34m  Stopping...\u001b[0m\n",
            "^C\n"
          ]
        }
      ],
      "source": [
        "!streamlit run app.py & npx localtunnel --port 8501"
      ]
    }
  ],
  "metadata": {
    "colab": {
      "provenance": [],
      "authorship_tag": "ABX9TyO2oYwwDhaENTcUf5M5HdmN",
      "include_colab_link": true
    },
    "kernelspec": {
      "display_name": "Python 3",
      "name": "python3"
    },
    "language_info": {
      "name": "python"
    }
  },
  "nbformat": 4,
  "nbformat_minor": 0
}